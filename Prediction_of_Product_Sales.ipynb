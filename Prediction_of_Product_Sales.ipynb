{
  "nbformat": 4,
  "nbformat_minor": 0,
  "metadata": {
    "colab": {
      "provenance": [],
      "authorship_tag": "ABX9TyO/T8Ny9RWqzNQdSHIPJKr3",
      "include_colab_link": true
    },
    "kernelspec": {
      "name": "python3",
      "display_name": "Python 3"
    },
    "language_info": {
      "name": "python"
    }
  },
  "cells": [
    {
      "cell_type": "markdown",
      "metadata": {
        "id": "view-in-github",
        "colab_type": "text"
      },
      "source": [
        "<a href=\"https://colab.research.google.com/github/fadi-theodory/Prediction-of-Product-Sales/blob/main/Prediction_of_Product_Sales.ipynb\" target=\"_parent\"><img src=\"https://colab.research.google.com/assets/colab-badge.svg\" alt=\"Open In Colab\"/></a>"
      ]
    },
    {
      "cell_type": "markdown",
      "source": [
        "# Project Title: Prediciton of product Sales\n",
        "\n",
        "- Author: Fadi Theodory\n"
      ],
      "metadata": {
        "id": "94hI0dVnI1HH"
      }
    },
    {
      "cell_type": "markdown",
      "source": [
        "## Project Overview\n"
      ],
      "metadata": {
        "id": "mI8-K6VOLA9B"
      }
    },
    {
      "cell_type": "markdown",
      "source": [],
      "metadata": {
        "id": "oRwFCo5mLsiV"
      }
    },
    {
      "cell_type": "markdown",
      "source": [
        "## Load and Inspect Data\n"
      ],
      "metadata": {
        "id": "X1JW2MXtLX3t"
      }
    },
    {
      "cell_type": "code",
      "source": [],
      "metadata": {
        "id": "9TqNBQKhLev5"
      },
      "execution_count": null,
      "outputs": []
    },
    {
      "cell_type": "markdown",
      "source": [
        "## Clean Data\n"
      ],
      "metadata": {
        "id": "RsEfmBR2LZ0l"
      }
    },
    {
      "cell_type": "code",
      "source": [],
      "metadata": {
        "id": "v0vRm_1lLfIa"
      },
      "execution_count": null,
      "outputs": []
    },
    {
      "cell_type": "markdown",
      "source": [
        "## Exploratory Data Analysis\n"
      ],
      "metadata": {
        "id": "Fh8s2iH2LbJU"
      }
    },
    {
      "cell_type": "code",
      "source": [],
      "metadata": {
        "id": "Xxu_bZ83Lfdr"
      },
      "execution_count": null,
      "outputs": []
    },
    {
      "cell_type": "markdown",
      "source": [
        "## Feature Inspection"
      ],
      "metadata": {
        "id": "iZLyOrRmLcG7"
      }
    },
    {
      "cell_type": "code",
      "source": [],
      "metadata": {
        "id": "Ks99vWrLLgB7"
      },
      "execution_count": null,
      "outputs": []
    }
  ]
}